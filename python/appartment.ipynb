{
 "cells": [
  {
   "cell_type": "code",
   "execution_count": 1,
   "id": "bc523bf2",
   "metadata": {},
   "outputs": [],
   "source": [
    "import numpy as np\n",
    "import pandas as pd \n"
   ]
  },
  {
   "cell_type": "code",
   "execution_count": 35,
   "id": "dddee38b",
   "metadata": {},
   "outputs": [],
   "source": [
    "df = pd.read_csv(\"./appartment.csv\",index_col=\"Index\")"
   ]
  },
  {
   "cell_type": "code",
   "execution_count": 36,
   "id": "0d5b5a07",
   "metadata": {},
   "outputs": [
    {
     "data": {
      "text/html": [
       "<div>\n",
       "<style scoped>\n",
       "    .dataframe tbody tr th:only-of-type {\n",
       "        vertical-align: middle;\n",
       "    }\n",
       "\n",
       "    .dataframe tbody tr th {\n",
       "        vertical-align: top;\n",
       "    }\n",
       "\n",
       "    .dataframe thead th {\n",
       "        text-align: right;\n",
       "    }\n",
       "</style>\n",
       "<table border=\"1\" class=\"dataframe\">\n",
       "  <thead>\n",
       "    <tr style=\"text-align: right;\">\n",
       "      <th></th>\n",
       "      <th>City</th>\n",
       "      <th>Country</th>\n",
       "      <th>Apartment_Surface_Area_SQM</th>\n",
       "      <th>Building_Date</th>\n",
       "      <th>Room_Price_EUR</th>\n",
       "    </tr>\n",
       "    <tr>\n",
       "      <th>Index</th>\n",
       "      <th></th>\n",
       "      <th></th>\n",
       "      <th></th>\n",
       "      <th></th>\n",
       "      <th></th>\n",
       "    </tr>\n",
       "  </thead>\n",
       "  <tbody>\n",
       "    <tr>\n",
       "      <th>1</th>\n",
       "      <td>New York</td>\n",
       "      <td>USA</td>\n",
       "      <td>80</td>\n",
       "      <td>2000</td>\n",
       "      <td>274480</td>\n",
       "    </tr>\n",
       "    <tr>\n",
       "      <th>2</th>\n",
       "      <td>New York</td>\n",
       "      <td>USA</td>\n",
       "      <td>100</td>\n",
       "      <td>2010</td>\n",
       "      <td>343100</td>\n",
       "    </tr>\n",
       "    <tr>\n",
       "      <th>3</th>\n",
       "      <td>New York</td>\n",
       "      <td>USA</td>\n",
       "      <td>20</td>\n",
       "      <td>1995</td>\n",
       "      <td>114980</td>\n",
       "    </tr>\n",
       "    <tr>\n",
       "      <th>4</th>\n",
       "      <td>New York</td>\n",
       "      <td>USA</td>\n",
       "      <td>35</td>\n",
       "      <td>2008</td>\n",
       "      <td>160045</td>\n",
       "    </tr>\n",
       "    <tr>\n",
       "      <th>5</th>\n",
       "      <td>San Francisco</td>\n",
       "      <td>USA</td>\n",
       "      <td>75</td>\n",
       "      <td>2005</td>\n",
       "      <td>257325</td>\n",
       "    </tr>\n",
       "    <tr>\n",
       "      <th>...</th>\n",
       "      <td>...</td>\n",
       "      <td>...</td>\n",
       "      <td>...</td>\n",
       "      <td>...</td>\n",
       "      <td>...</td>\n",
       "    </tr>\n",
       "    <tr>\n",
       "      <th>94</th>\n",
       "      <td>Kribi</td>\n",
       "      <td>Cameroon</td>\n",
       "      <td>80</td>\n",
       "      <td>2017</td>\n",
       "      <td>274480</td>\n",
       "    </tr>\n",
       "    <tr>\n",
       "      <th>95</th>\n",
       "      <td>Kribi</td>\n",
       "      <td>Cameroon</td>\n",
       "      <td>20</td>\n",
       "      <td>2004</td>\n",
       "      <td>103740</td>\n",
       "    </tr>\n",
       "    <tr>\n",
       "      <th>96</th>\n",
       "      <td>Kribi</td>\n",
       "      <td>Cameroon</td>\n",
       "      <td>38</td>\n",
       "      <td>2019</td>\n",
       "      <td>172710</td>\n",
       "    </tr>\n",
       "    <tr>\n",
       "      <th>97</th>\n",
       "      <td>Hamburg</td>\n",
       "      <td>Germany</td>\n",
       "      <td>70</td>\n",
       "      <td>2016</td>\n",
       "      <td>240090</td>\n",
       "    </tr>\n",
       "    <tr>\n",
       "      <th>98</th>\n",
       "      <td>Hamburg</td>\n",
       "      <td>Germany</td>\n",
       "      <td>80</td>\n",
       "      <td>2020</td>\n",
       "      <td>274</td>\n",
       "    </tr>\n",
       "  </tbody>\n",
       "</table>\n",
       "<p>98 rows × 5 columns</p>\n",
       "</div>"
      ],
      "text/plain": [
       "                City   Country  Apartment_Surface_Area_SQM  Building_Date  \\\n",
       "Index                                                                       \n",
       "1           New York       USA                          80           2000   \n",
       "2           New York       USA                         100           2010   \n",
       "3           New York       USA                          20           1995   \n",
       "4           New York       USA                          35           2008   \n",
       "5      San Francisco       USA                          75           2005   \n",
       "...              ...       ...                         ...            ...   \n",
       "94             Kribi  Cameroon                          80           2017   \n",
       "95             Kribi  Cameroon                          20           2004   \n",
       "96             Kribi  Cameroon                          38           2019   \n",
       "97           Hamburg   Germany                          70           2016   \n",
       "98           Hamburg   Germany                          80           2020   \n",
       "\n",
       "       Room_Price_EUR  \n",
       "Index                  \n",
       "1              274480  \n",
       "2              343100  \n",
       "3              114980  \n",
       "4              160045  \n",
       "5              257325  \n",
       "...               ...  \n",
       "94             274480  \n",
       "95             103740  \n",
       "96             172710  \n",
       "97             240090  \n",
       "98                274  \n",
       "\n",
       "[98 rows x 5 columns]"
      ]
     },
     "execution_count": 36,
     "metadata": {},
     "output_type": "execute_result"
    }
   ],
   "source": [
    "df"
   ]
  },
  {
   "cell_type": "code",
   "execution_count": 37,
   "id": "e6669ba0",
   "metadata": {},
   "outputs": [
    {
     "data": {
      "text/plain": [
       "Index(['City', 'Country', 'Apartment_Surface_Area_SQM', 'Building_Date',\n",
       "       'Room_Price_EUR'],\n",
       "      dtype='object')"
      ]
     },
     "execution_count": 37,
     "metadata": {},
     "output_type": "execute_result"
    }
   ],
   "source": [
    "df.describe()\n",
    "df.columns"
   ]
  },
  {
   "cell_type": "code",
   "execution_count": 71,
   "id": "3260f944",
   "metadata": {},
   "outputs": [
    {
     "name": "stdout",
     "output_type": "stream",
     "text": [
      "       Apartment_Surface_Area_SQM  Building_Date\n",
      "Index                                           \n",
      "1                              80           2000\n",
      "2                             100           2010\n",
      "3                              20           1995\n",
      "4                              35           2008\n",
      "5                              75           2005\n",
      "...                           ...            ...\n",
      "94                             80           2017\n",
      "95                             20           2004\n",
      "96                             38           2019\n",
      "97                             70           2016\n",
      "98                             80           2020\n",
      "\n",
      "[98 rows x 2 columns]\n",
      "Index\n",
      "1     274480\n",
      "2     343100\n",
      "3     114980\n",
      "4     160045\n",
      "5     257325\n",
      "       ...  \n",
      "94    274480\n",
      "95    103740\n",
      "96    172710\n",
      "97    240090\n",
      "98       274\n",
      "Name: Room_Price_EUR, Length: 98, dtype: int64\n"
     ]
    }
   ],
   "source": [
    "# Simple model to predict Price base don Surface and date - No Encoder for catogorical var\n",
    "X = df[['Apartment_Surface_Area_SQM', 'Building_Date']]\n",
    "Y = df['Room_Price_EUR']\n",
    "print(X)\n",
    "print(Y)\n"
   ]
  },
  {
   "cell_type": "code",
   "execution_count": 72,
   "id": "c24081ba",
   "metadata": {},
   "outputs": [
    {
     "name": "stdout",
     "output_type": "stream",
     "text": [
      "R-squared scores for each fold (cross-validation): [0.29619463 0.97485021 0.96755908 0.97820217 0.96479434]\n"
     ]
    }
   ],
   "source": [
    "from sklearn.model_selection import train_test_split, cross_val_score\n",
    "from sklearn.linear_model import LinearRegression\n",
    "\n",
    "X_train, X_test, Y_train,Y_test= train_test_split(X,Y,test_size=0.2,random_state=77)\n",
    "\n",
    "roomPriceModel = LinearRegression() \n",
    "\n",
    "cross_val_scores = cross_val_score(roomPriceModel, X_train, Y_train, cv=5, scoring='r2')\n",
    "print(\"R-squared scores for each fold (cross-validation):\", cross_val_scores)\n",
    "\n",
    "\n",
    "\n"
   ]
  },
  {
   "cell_type": "code",
   "execution_count": null,
   "id": "f5625ae1",
   "metadata": {},
   "outputs": [],
   "source": []
  },
  {
   "cell_type": "code",
   "execution_count": 80,
   "id": "786aee2e",
   "metadata": {},
   "outputs": [
    {
     "data": {
      "text/html": [
       "<style>#sk-container-id-3 {color: black;background-color: white;}#sk-container-id-3 pre{padding: 0;}#sk-container-id-3 div.sk-toggleable {background-color: white;}#sk-container-id-3 label.sk-toggleable__label {cursor: pointer;display: block;width: 100%;margin-bottom: 0;padding: 0.3em;box-sizing: border-box;text-align: center;}#sk-container-id-3 label.sk-toggleable__label-arrow:before {content: \"▸\";float: left;margin-right: 0.25em;color: #696969;}#sk-container-id-3 label.sk-toggleable__label-arrow:hover:before {color: black;}#sk-container-id-3 div.sk-estimator:hover label.sk-toggleable__label-arrow:before {color: black;}#sk-container-id-3 div.sk-toggleable__content {max-height: 0;max-width: 0;overflow: hidden;text-align: left;background-color: #f0f8ff;}#sk-container-id-3 div.sk-toggleable__content pre {margin: 0.2em;color: black;border-radius: 0.25em;background-color: #f0f8ff;}#sk-container-id-3 input.sk-toggleable__control:checked~div.sk-toggleable__content {max-height: 200px;max-width: 100%;overflow: auto;}#sk-container-id-3 input.sk-toggleable__control:checked~label.sk-toggleable__label-arrow:before {content: \"▾\";}#sk-container-id-3 div.sk-estimator input.sk-toggleable__control:checked~label.sk-toggleable__label {background-color: #d4ebff;}#sk-container-id-3 div.sk-label input.sk-toggleable__control:checked~label.sk-toggleable__label {background-color: #d4ebff;}#sk-container-id-3 input.sk-hidden--visually {border: 0;clip: rect(1px 1px 1px 1px);clip: rect(1px, 1px, 1px, 1px);height: 1px;margin: -1px;overflow: hidden;padding: 0;position: absolute;width: 1px;}#sk-container-id-3 div.sk-estimator {font-family: monospace;background-color: #f0f8ff;border: 1px dotted black;border-radius: 0.25em;box-sizing: border-box;margin-bottom: 0.5em;}#sk-container-id-3 div.sk-estimator:hover {background-color: #d4ebff;}#sk-container-id-3 div.sk-parallel-item::after {content: \"\";width: 100%;border-bottom: 1px solid gray;flex-grow: 1;}#sk-container-id-3 div.sk-label:hover label.sk-toggleable__label {background-color: #d4ebff;}#sk-container-id-3 div.sk-serial::before {content: \"\";position: absolute;border-left: 1px solid gray;box-sizing: border-box;top: 0;bottom: 0;left: 50%;z-index: 0;}#sk-container-id-3 div.sk-serial {display: flex;flex-direction: column;align-items: center;background-color: white;padding-right: 0.2em;padding-left: 0.2em;position: relative;}#sk-container-id-3 div.sk-item {position: relative;z-index: 1;}#sk-container-id-3 div.sk-parallel {display: flex;align-items: stretch;justify-content: center;background-color: white;position: relative;}#sk-container-id-3 div.sk-item::before, #sk-container-id-3 div.sk-parallel-item::before {content: \"\";position: absolute;border-left: 1px solid gray;box-sizing: border-box;top: 0;bottom: 0;left: 50%;z-index: -1;}#sk-container-id-3 div.sk-parallel-item {display: flex;flex-direction: column;z-index: 1;position: relative;background-color: white;}#sk-container-id-3 div.sk-parallel-item:first-child::after {align-self: flex-end;width: 50%;}#sk-container-id-3 div.sk-parallel-item:last-child::after {align-self: flex-start;width: 50%;}#sk-container-id-3 div.sk-parallel-item:only-child::after {width: 0;}#sk-container-id-3 div.sk-dashed-wrapped {border: 1px dashed gray;margin: 0 0.4em 0.5em 0.4em;box-sizing: border-box;padding-bottom: 0.4em;background-color: white;}#sk-container-id-3 div.sk-label label {font-family: monospace;font-weight: bold;display: inline-block;line-height: 1.2em;}#sk-container-id-3 div.sk-label-container {text-align: center;}#sk-container-id-3 div.sk-container {/* jupyter's `normalize.less` sets `[hidden] { display: none; }` but bootstrap.min.css set `[hidden] { display: none !important; }` so we also need the `!important` here to be able to override the default hidden behavior on the sphinx rendered scikit-learn.org. See: https://github.com/scikit-learn/scikit-learn/issues/21755 */display: inline-block !important;position: relative;}#sk-container-id-3 div.sk-text-repr-fallback {display: none;}</style><div id=\"sk-container-id-3\" class=\"sk-top-container\"><div class=\"sk-text-repr-fallback\"><pre>LinearRegression()</pre><b>In a Jupyter environment, please rerun this cell to show the HTML representation or trust the notebook. <br />On GitHub, the HTML representation is unable to render, please try loading this page with nbviewer.org.</b></div><div class=\"sk-container\" hidden><div class=\"sk-item\"><div class=\"sk-estimator sk-toggleable\"><input class=\"sk-toggleable__control sk-hidden--visually\" id=\"sk-estimator-id-3\" type=\"checkbox\" checked><label for=\"sk-estimator-id-3\" class=\"sk-toggleable__label sk-toggleable__label-arrow\">LinearRegression</label><div class=\"sk-toggleable__content\"><pre>LinearRegression()</pre></div></div></div></div></div>"
      ],
      "text/plain": [
       "LinearRegression()"
      ]
     },
     "execution_count": 80,
     "metadata": {},
     "output_type": "execute_result"
    }
   ],
   "source": [
    "# Train the model \n",
    "\n",
    "roomPriceModel.fit(X_train,Y_train)\n",
    "\n"
   ]
  },
  {
   "cell_type": "code",
   "execution_count": 81,
   "id": "3a66ac27",
   "metadata": {},
   "outputs": [
    {
     "name": "stdout",
     "output_type": "stream",
     "text": [
      "R-squared score on the train set: 0.8546477210731518\n",
      "R-squared score on the test set: 0.9787959274513923\n"
     ]
    }
   ],
   "source": [
    "Y_pred = roomPriceModel.predict(X_test)\n",
    "train_set_score = roomPriceModel.score(X_train, Y_train)\n",
    "print(\"R-squared score on the train set:\", train_set_score)\n",
    "\n",
    "test_set_score = roomPriceModel.score(X_test, Y_test)\n",
    "\n",
    "print(\"R-squared score on the test set:\", test_set_score)\n"
   ]
  },
  {
   "cell_type": "code",
   "execution_count": 82,
   "id": "e5637777",
   "metadata": {},
   "outputs": [
    {
     "name": "stdout",
     "output_type": "stream",
     "text": [
      "Mean Absolute Error (MAE): 8670.53790465023\n",
      "Mean Squared Error (MSE): 110369158.63301699\n",
      "Root Mean Squared Error (RMSE): 10505.672688267849\n",
      "R-squared (R2): 0.9787959274513923\n"
     ]
    }
   ],
   "source": [
    "# Evaluate the room price model \n",
    "from sklearn.metrics import mean_absolute_error, mean_squared_error, r2_score\n",
    "\n",
    "mae = mean_absolute_error(Y_test, Y_pred)\n",
    "mse = mean_squared_error(Y_test, Y_pred)\n",
    "rmse = mean_squared_error(Y_test, Y_pred, squared=False)\n",
    "r2 = r2_score(Y_test, Y_pred)\n",
    "\n",
    "print(f\"Mean Absolute Error (MAE): {mae}\")\n",
    "print(f\"Mean Squared Error (MSE): {mse}\")\n",
    "print(f\"Root Mean Squared Error (RMSE): {rmse}\")\n",
    "print(f\"R-squared (R2): {r2}\")"
   ]
  },
  {
   "cell_type": "code",
   "execution_count": 86,
   "id": "3c10ce36",
   "metadata": {},
   "outputs": [
    {
     "name": "stdout",
     "output_type": "stream",
     "text": [
      "[156828.01624582 110358.22943254]\n"
     ]
    }
   ],
   "source": [
    "# Play with your model \n",
    "\n",
    "\n",
    "myApartment = pd.DataFrame({'Apartment_Surface_Area_SQM': [40,20], 'Building_Date': [2022,2000]})\n",
    "prediction = roomPriceModel.predict(myApartment)\n",
    "print(prediction)"
   ]
  },
  {
   "cell_type": "code",
   "execution_count": 112,
   "id": "b8d92f36",
   "metadata": {},
   "outputs": [
    {
     "name": "stdout",
     "output_type": "stream",
     "text": [
      "ONNX model saved as 'roomPriceModel.onnx'\n"
     ]
    }
   ],
   "source": [
    "from skl2onnx import to_onnx\n",
    "from skl2onnx.common.data_types import FloatTensorType\n",
    "\n",
    "\n",
    "# Define the input and output types for ONNX conversion\n",
    "initial_type = [('room_size_and_building_date', FloatTensorType([None, 2]))]\n",
    "# Convert the   scikit-learn roomPriceModel to ONNX format\n",
    "onnxRoomPriceModel = to_onnx(roomPriceModel,initial_type)\n",
    "with open(\"roomPriceModel.onnx\", \"wb\") as f:\n",
    "    f.write(onnxRoomPriceModel.SerializeToString())\n",
    "    print(\"ONNX model saved as 'roomPriceModel.onnx'\")\n"
   ]
  },
  {
   "cell_type": "code",
   "execution_count": 121,
   "id": "c03cd091",
   "metadata": {},
   "outputs": [
    {
     "name": "stdout",
     "output_type": "stream",
     "text": [
      "[[156828.06]\n",
      " [110358.25]]\n"
     ]
    }
   ],
   "source": [
    "# test the onnx model with onnx runtime \n",
    "import onnxruntime as ort\n",
    "\n",
    "oSession = ort.InferenceSession('roomPriceModel.onnx', providers=['CPUExecutionProvider'])\n",
    "input_data = np.array([[40, 2022],[20, 2000]], dtype=np.float32)\n",
    "output = oSession.run([], {\"room_size_and_building_date\": input_data})\n",
    "\n",
    "predicted_price = output[0]\n",
    "print(predicted_price)\n",
    "\n"
   ]
  }
 ],
 "metadata": {
  "kernelspec": {
   "display_name": "Python 3 (ipykernel)",
   "language": "python",
   "name": "python3"
  },
  "language_info": {
   "codemirror_mode": {
    "name": "ipython",
    "version": 3
   },
   "file_extension": ".py",
   "mimetype": "text/x-python",
   "name": "python",
   "nbconvert_exporter": "python",
   "pygments_lexer": "ipython3",
   "version": "3.10.9"
  }
 },
 "nbformat": 4,
 "nbformat_minor": 5
}
